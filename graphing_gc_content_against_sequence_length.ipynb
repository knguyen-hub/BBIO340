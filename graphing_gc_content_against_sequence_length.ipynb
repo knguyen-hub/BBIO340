{
 "cells": [
  {
   "cell_type": "code",
   "execution_count": 1,
   "metadata": {},
   "outputs": [],
   "source": [
    "# returns frequency of G's and C's in the sequence\n",
    "def calculate_gc_content(sequence):\n",
    "    c = sequence.count('C')\n",
    "    g = sequence.count('G')\n",
    "    return (c + g) / len(sequence)"
   ]
  },
  {
   "cell_type": "code",
   "execution_count": 3,
   "metadata": {},
   "outputs": [
    {
     "data": {
      "text/plain": [
       "0.5"
      ]
     },
     "execution_count": 3,
     "metadata": {},
     "output_type": "execute_result"
    }
   ],
   "source": [
    "# test the function to make sure it works\n",
    "calculate_gc_content(\"GCGCAAAA\")"
   ]
  },
  {
   "cell_type": "code",
   "execution_count": 4,
   "metadata": {},
   "outputs": [],
   "source": [
    "human_genome_filepath = './GCF_000001405.39_GRCh38.p13_cds_from_genomic.fna'\n",
    "human_genome_file = open(human_genome_filepath)\n",
    "human_genome_file.close()"
   ]
  },
  {
   "cell_type": "code",
   "execution_count": 5,
   "metadata": {},
   "outputs": [],
   "source": [
    "def parse_fasta_file(input_file):\n",
    "    \"\"\"Return a dict of {id:gene_seq} pairs based on the sequences in the input FASTA file\n",
    "    input_file -- a file handle for an input fasta file\n",
    "    \"\"\"\n",
    "    parsed_seqs = {}\n",
    "    curr_seq_id = None\n",
    "    curr_seq = []\n",
    "\n",
    "    for line in f:\n",
    "        line = line.strip()\n",
    "\n",
    "        if line.startswith(\">\"):\n",
    "            if curr_seq_id is not None:\n",
    "                parsed_seqs[curr_seq_id] = ''.join(curr_seq)\n",
    "\n",
    "            curr_seq_id = line[1:]\n",
    "            curr_seq = []\n",
    "            continue\n",
    "\n",
    "        curr_seq.append(line)\n",
    "\n",
    "    #Add the final sequence to the dict\n",
    "    parsed_seqs[curr_seq_id] = ''.join(curr_seq)\n",
    "    return parsed_seqs"
   ]
  },
  {
   "cell_type": "code",
   "execution_count": 6,
   "metadata": {},
   "outputs": [
    {
     "name": "stdout",
     "output_type": "stream",
     "text": [
      "Done parsing genome\n"
     ]
    }
   ],
   "source": [
    "input_file = human_genome_filepath\n",
    "\n",
    "f = open(input_file)\n",
    "parsed_seqs = parse_fasta_file(input_file)\n",
    "print(\"Done parsing genome\")"
   ]
  },
  {
   "cell_type": "code",
   "execution_count": 8,
   "metadata": {},
   "outputs": [
    {
     "name": "stdout",
     "output_type": "stream",
     "text": [
      "Done calculating GC dinucleotide frequency for 124038 ...\n"
     ]
    }
   ],
   "source": [
    "gc_contents = {}\n",
    "seq_lengths = {}\n",
    "\n",
    "for gene_id, sequence in parsed_seqs.items():\n",
    "    \n",
    "    # Run our function\n",
    "    gc_content = calculate_gc_content(sequence)\n",
    "    length = len(sequence)\n",
    "    \n",
    "    #Save the results in dictionaries for later use\n",
    "    gc_contents[gene_id] = gc_content\n",
    "    seq_lengths[gene_id] = length\n",
    "\n",
    "total_genes = len(gc_contents)\n",
    "print(f\"Done calculating GC dinucleotide frequency for {total_genes} ...\")"
   ]
  },
  {
   "cell_type": "code",
   "execution_count": 10,
   "metadata": {},
   "outputs": [],
   "source": [
    "length_vals = []\n",
    "gc_vals = []\n",
    "\n",
    "for gene_id, gc_val in gc_contents.items():\n",
    "    length_vals.append(seq_lengths[gene_id])\n",
    "    gc_vals.append(gc_val)"
   ]
  },
  {
   "cell_type": "code",
   "execution_count": 11,
   "metadata": {},
   "outputs": [
    {
     "name": "stdout",
     "output_type": "stream",
     "text": [
      "Example gc values: [0.4260958205912334, 0.5446623093681917, 0.5489021956087824, 0.46006389776357826, 0.6897470039946738, 0.46006389776357826, 0.46006389776357826, 0.46006389776357826, 0.46006389776357826, 0.46006389776357826]\n",
      "Example length values: [981, 459, 501, 939, 2253, 939, 939, 939, 939, 939]\n"
     ]
    }
   ],
   "source": [
    "n_examples = 10\n",
    "example_length_values = length_vals[0:n_examples]\n",
    "example_gc_values = gc_vals[0:n_examples]\n",
    "print(f\"Example gc values: {example_gc_values}\")\n",
    "print(f\"Example length values: {example_length_values}\")"
   ]
  },
  {
   "cell_type": "code",
   "execution_count": 14,
   "metadata": {},
   "outputs": [
    {
     "data": {
      "image/png": "[encoded data removed]",
      "text/plain": [
       "<Figure size 432x288 with 1 Axes>"
      ]
     },
     "metadata": {
      "needs_background": "light"
     },
     "output_type": "display_data"
    }
   ],
   "source": [
    "import matplotlib.pyplot as plt\n",
    "xs = length_vals\n",
    "ys = gc_vals\n",
    "\n",
    "colors = [((x - y)**2) for x,y in zip(xs,ys)]\n",
    "\n",
    "#Build the scatter plot\n",
    "plt.scatter(xs,ys,c=colors,cmap = 'plasma',alpha = 0.05)\n",
    "\n",
    "#Add x and y labels\n",
    "plt.xlabel(\"Sequence length\")\n",
    "plt.ylabel(\"GC content\")\n",
    "\n",
    "\n",
    "\n",
    "#Show the plot\n",
    "plt.show()"
   ]
  },
  {
   "cell_type": "code",
   "execution_count": null,
   "metadata": {},
   "outputs": [],
   "source": []
  }
 ],
 "metadata": {
  "kernelspec": {
   "display_name": "Python 3",
   "language": "python",
   "name": "python3"
  },
  "language_info": {
   "codemirror_mode": {
    "name": "ipython",
    "version": 3
   },
   "file_extension": ".py",
   "mimetype": "text/x-python",
   "name": "python",
   "nbconvert_exporter": "python",
   "pygments_lexer": "ipython3",
   "version": "3.7.3"
  }
 },
 "nbformat": 4,
 "nbformat_minor": 2
}
